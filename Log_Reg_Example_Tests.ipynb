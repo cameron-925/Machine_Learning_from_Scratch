{
 "cells": [
  {
   "metadata": {},
   "cell_type": "markdown",
   "source": "# Logistic Regression Example/Test",
   "id": "15ac5984d6383eaa"
  },
  {
   "metadata": {},
   "cell_type": "markdown",
   "source": "## Normalize",
   "id": "37f579151fd4edd6"
  },
  {
   "metadata": {
    "ExecuteTime": {
     "end_time": "2025-03-02T03:17:47.885751Z",
     "start_time": "2025-03-02T03:17:47.882447Z"
    }
   },
   "cell_type": "code",
   "outputs": [
    {
     "name": "stdout",
     "output_type": "stream",
     "text": [
      "Number of rows: 2\n",
      "Number of columns: 3\n"
     ]
    }
   ],
   "execution_count": 243,
   "source": [
    "X1 = np.array([[1,3,5],[2,4,6]])\n",
    "print(\"Number of rows:\", X1.shape[0])\n",
    "print(\"Number of columns:\", X1.shape[1])"
   ],
   "id": "154676f658ed12d9"
  },
  {
   "metadata": {
    "ExecuteTime": {
     "end_time": "2025-03-02T03:17:47.968362Z",
     "start_time": "2025-03-02T03:17:47.924220Z"
    }
   },
   "cell_type": "code",
   "outputs": [
    {
     "data": {
      "text/plain": [
       "array([[-1., -1., -1.],\n",
       "       [ 1.,  1.,  1.]])"
      ]
     },
     "execution_count": 244,
     "metadata": {},
     "output_type": "execute_result"
    }
   ],
   "execution_count": 244,
   "source": [
    "mean = np.mean(X1, axis = 0)\n",
    "std = np.std(X1, axis = 0)\n",
    "(X1-mean)/std"
   ],
   "id": "3931516b5dd96b1b"
  },
  {
   "metadata": {},
   "cell_type": "markdown",
   "source": "## Add Bias Column",
   "id": "9c0ebd9936af4c08"
  },
  {
   "metadata": {
    "ExecuteTime": {
     "end_time": "2025-03-02T03:17:48.090296Z",
     "start_time": "2025-03-02T03:17:48.088249Z"
    }
   },
   "cell_type": "code",
   "outputs": [],
   "execution_count": 245,
   "source": "X1 = np.array([[1,3,5],[2,4,6]])",
   "id": "fd0fbc3730b7a2b"
  },
  {
   "metadata": {
    "ExecuteTime": {
     "end_time": "2025-03-02T03:17:48.128793Z",
     "start_time": "2025-03-02T03:17:48.126630Z"
    }
   },
   "cell_type": "code",
   "outputs": [
    {
     "name": "stdout",
     "output_type": "stream",
     "text": [
      "Number of rows: 2\n",
      "Number of columns: 3\n"
     ]
    }
   ],
   "execution_count": 246,
   "source": [
    "print(\"Number of rows:\", X1.shape[0])\n",
    "print(\"Number of columns:\", X1.shape[1])"
   ],
   "id": "4fd2c2fc67abe6cb"
  },
  {
   "metadata": {
    "ExecuteTime": {
     "end_time": "2025-03-02T03:17:48.171095Z",
     "start_time": "2025-03-02T03:17:48.168695Z"
    }
   },
   "cell_type": "code",
   "outputs": [
    {
     "data": {
      "text/plain": [
       "array([[1.],\n",
       "       [1.]])"
      ]
     },
     "execution_count": 247,
     "metadata": {},
     "output_type": "execute_result"
    }
   ],
   "execution_count": 247,
   "source": [
    "column_ones = np.ones(shape=(X1.shape[0], 1))\n",
    "column_ones"
   ],
   "id": "51ebe0354d54275b"
  },
  {
   "metadata": {
    "ExecuteTime": {
     "end_time": "2025-03-02T03:17:48.223706Z",
     "start_time": "2025-03-02T03:17:48.220025Z"
    }
   },
   "cell_type": "code",
   "outputs": [
    {
     "data": {
      "text/plain": [
       "array([[1., 1., 3., 5.],\n",
       "       [1., 2., 4., 6.]])"
      ]
     },
     "execution_count": 248,
     "metadata": {},
     "output_type": "execute_result"
    }
   ],
   "execution_count": 248,
   "source": [
    "X1 = np.concatenate((column_ones, X1), axis = 1)\n",
    "X1"
   ],
   "id": "ffb2c8bb1198f668"
  },
  {
   "metadata": {},
   "cell_type": "markdown",
   "source": "## Initialize Weights\n",
   "id": "d7bc58178bf4e4a6"
  },
  {
   "metadata": {
    "ExecuteTime": {
     "end_time": "2025-03-02T03:17:48.268275Z",
     "start_time": "2025-03-02T03:17:48.266161Z"
    }
   },
   "cell_type": "code",
   "outputs": [
    {
     "data": {
      "text/plain": [
       "array([[0.],\n",
       "       [0.],\n",
       "       [0.],\n",
       "       [0.]])"
      ]
     },
     "execution_count": 249,
     "metadata": {},
     "output_type": "execute_result"
    }
   ],
   "execution_count": 249,
   "source": [
    "weights1 = np.zeros((X1.shape[1], 1))\n",
    "weights1"
   ],
   "id": "5af0df9a76964e4c"
  },
  {
   "metadata": {},
   "cell_type": "markdown",
   "source": "## Multiply Weights",
   "id": "aa41ed5358f51bd9"
  },
  {
   "metadata": {
    "ExecuteTime": {
     "end_time": "2025-03-02T03:17:48.331110Z",
     "start_time": "2025-03-02T03:17:48.328875Z"
    }
   },
   "cell_type": "code",
   "outputs": [
    {
     "data": {
      "text/plain": [
       "array([[0.],\n",
       "       [0.]])"
      ]
     },
     "execution_count": 250,
     "metadata": {},
     "output_type": "execute_result"
    }
   ],
   "execution_count": 250,
   "source": "np.dot(X1, weights1)",
   "id": "b821a4537a32a190"
  },
  {
   "metadata": {},
   "cell_type": "markdown",
   "source": "## Hypothesis",
   "id": "81e6815e5a2623d2"
  },
  {
   "metadata": {
    "ExecuteTime": {
     "end_time": "2025-03-02T03:17:48.414982Z",
     "start_time": "2025-03-02T03:17:48.413084Z"
    }
   },
   "cell_type": "code",
   "outputs": [],
   "execution_count": 252,
   "source": [
    "def sigmoid1(z):\n",
    "        sig = 1/(1+np.exp(-z))\n",
    "        return sig"
   ],
   "id": "3c131f274cf675"
  },
  {
   "metadata": {
    "ExecuteTime": {
     "end_time": "2025-03-02T03:17:48.468710Z",
     "start_time": "2025-03-02T03:17:48.467055Z"
    }
   },
   "cell_type": "code",
   "outputs": [],
   "execution_count": 253,
   "source": "h1 = sigmoid1(np.dot(X1, weights1))",
   "id": "cf6e30151e739116"
  },
  {
   "metadata": {},
   "cell_type": "markdown",
   "source": "## Gradient",
   "id": "ffaa5ea04929458e"
  },
  {
   "metadata": {
    "ExecuteTime": {
     "end_time": "2025-03-02T03:17:48.478655Z",
     "start_time": "2025-03-02T03:17:48.476643Z"
    }
   },
   "cell_type": "code",
   "outputs": [
    {
     "data": {
      "text/plain": [
       "(2, 1)"
      ]
     },
     "execution_count": 254,
     "metadata": {},
     "output_type": "execute_result"
    }
   ],
   "execution_count": 254,
   "source": [
    "y1 = np.array([[0], [1]])\n",
    "y1.shape"
   ],
   "id": "aa12e068d486d811"
  },
  {
   "metadata": {
    "ExecuteTime": {
     "end_time": "2025-03-02T03:17:48.517425Z",
     "start_time": "2025-03-02T03:17:48.515138Z"
    }
   },
   "cell_type": "code",
   "outputs": [
    {
     "data": {
      "text/plain": [
       "array([[0.    ],\n",
       "       [0.0025],\n",
       "       [0.0025],\n",
       "       [0.0025]])"
      ]
     },
     "execution_count": 255,
     "metadata": {},
     "output_type": "execute_result"
    }
   ],
   "execution_count": 255,
   "source": [
    "grad1 = (1 / m) * np.dot(X1.T, h1-y1)\n",
    "weights1 -= 0.01 * grad1\n",
    "weights1"
   ],
   "id": "85b7f69eaad251fe"
  },
  {
   "metadata": {},
   "cell_type": "markdown",
   "source": "## Number of labels = 1",
   "id": "8e7e58a106da02a4"
  },
  {
   "metadata": {
    "ExecuteTime": {
     "end_time": "2025-03-02T03:17:48.599215Z",
     "start_time": "2025-03-02T03:17:48.596782Z"
    }
   },
   "cell_type": "code",
   "outputs": [
    {
     "data": {
      "text/plain": [
       "2"
      ]
     },
     "execution_count": 258,
     "metadata": {},
     "output_type": "execute_result"
    }
   ],
   "execution_count": 258,
   "source": [
    "y2 = np.array([[0], [1], [0], [1]])\n",
    "np.sum(y2)"
   ],
   "id": "35a3958076ccdd07"
  },
  {
   "metadata": {},
   "cell_type": "markdown",
   "source": "## Number of accurate labels",
   "id": "827561a042a6f27d"
  },
  {
   "metadata": {
    "ExecuteTime": {
     "end_time": "2025-03-02T03:17:48.630957Z",
     "start_time": "2025-03-02T03:17:48.628815Z"
    }
   },
   "cell_type": "code",
   "outputs": [
    {
     "data": {
      "text/plain": [
       "2"
      ]
     },
     "execution_count": 259,
     "metadata": {},
     "output_type": "execute_result"
    }
   ],
   "execution_count": 259,
   "source": [
    "y1 = np.array([[1],[0],[1],[0]])\n",
    "y2 = np.array([[0], [0], [1], [1]])\n",
    "(y1 == y2).sum()"
   ],
   "id": "5b938d0946873076"
  }
 ],
 "metadata": {
  "kernelspec": {
   "display_name": "Python 3",
   "language": "python",
   "name": "python3"
  },
  "language_info": {
   "codemirror_mode": {
    "name": "ipython",
    "version": 2
   },
   "file_extension": ".py",
   "mimetype": "text/x-python",
   "name": "python",
   "nbconvert_exporter": "python",
   "pygments_lexer": "ipython2",
   "version": "2.7.6"
  }
 },
 "nbformat": 4,
 "nbformat_minor": 5
}
