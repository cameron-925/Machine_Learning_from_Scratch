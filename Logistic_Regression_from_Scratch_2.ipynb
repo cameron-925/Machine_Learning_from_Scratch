{
 "cells": [
  {
   "metadata": {},
   "cell_type": "markdown",
   "source": [
    "# Logistic Regression from Scratch (using Numpy) |  Take 2\n",
    "\n",
    "## Import Numpy (and Pandas for Preprocessing)"
   ],
   "id": "a5edecc4469dc3ba"
  },
  {
   "metadata": {
    "collapsed": true,
    "ExecuteTime": {
     "end_time": "2025-03-02T03:32:39.948364Z",
     "start_time": "2025-03-02T03:32:39.940732Z"
    }
   },
   "cell_type": "code",
   "source": [
    "import pandas as pd\n",
    "import numpy as np\n",
    "import matplotlib.pyplot as plt"
   ],
   "id": "23e26aa290c9fabd",
   "outputs": [],
   "execution_count": 315
  },
  {
   "metadata": {},
   "cell_type": "markdown",
   "source": "## Check Data (pandas)",
   "id": "6f46eb618556ca0c"
  },
  {
   "metadata": {
    "ExecuteTime": {
     "end_time": "2025-03-02T03:32:40.821429Z",
     "start_time": "2025-03-02T03:32:39.960666Z"
    }
   },
   "cell_type": "code",
   "source": [
    "# Read in Pandas\n",
    "df = pd.read_csv(\"creditcard.csv\")\n",
    "df.head()\n",
    "print(\"Number of Observations:\", len(df))\n",
    "print(\"Number of Variables:\", len(df.columns))"
   ],
   "id": "4876954cfc50b2c1",
   "outputs": [
    {
     "name": "stdout",
     "output_type": "stream",
     "text": [
      "Number of Observations: 284807\n",
      "Number of Variables: 31\n"
     ]
    }
   ],
   "execution_count": 316
  },
  {
   "metadata": {
    "ExecuteTime": {
     "end_time": "2025-03-02T03:32:40.864275Z",
     "start_time": "2025-03-02T03:32:40.844700Z"
    }
   },
   "cell_type": "code",
   "source": [
    "# Check for Null Columns\n",
    "null_index = {}\n",
    "for col in list(df.columns):\n",
    "    null_index[col] = int(df[col].isnull().sum())"
   ],
   "id": "da569279b4a6cbd4",
   "outputs": [],
   "execution_count": 317
  },
  {
   "metadata": {
    "ExecuteTime": {
     "end_time": "2025-03-02T03:32:40.885956Z",
     "start_time": "2025-03-02T03:32:40.883029Z"
    }
   },
   "cell_type": "code",
   "source": [
    "# View Dictionary\n",
    "null_index"
   ],
   "id": "e664d66515928669",
   "outputs": [
    {
     "data": {
      "text/plain": [
       "{'Time': 0,\n",
       " 'V1': 0,\n",
       " 'V2': 0,\n",
       " 'V3': 0,\n",
       " 'V4': 0,\n",
       " 'V5': 0,\n",
       " 'V6': 0,\n",
       " 'V7': 0,\n",
       " 'V8': 0,\n",
       " 'V9': 0,\n",
       " 'V10': 0,\n",
       " 'V11': 0,\n",
       " 'V12': 0,\n",
       " 'V13': 0,\n",
       " 'V14': 0,\n",
       " 'V15': 0,\n",
       " 'V16': 0,\n",
       " 'V17': 0,\n",
       " 'V18': 0,\n",
       " 'V19': 0,\n",
       " 'V20': 0,\n",
       " 'V21': 0,\n",
       " 'V22': 0,\n",
       " 'V23': 0,\n",
       " 'V24': 0,\n",
       " 'V25': 0,\n",
       " 'V26': 0,\n",
       " 'V27': 0,\n",
       " 'V28': 0,\n",
       " 'Amount': 0,\n",
       " 'Class': 0}"
      ]
     },
     "execution_count": 318,
     "metadata": {},
     "output_type": "execute_result"
    }
   ],
   "execution_count": 318
  },
  {
   "metadata": {
    "ExecuteTime": {
     "end_time": "2025-03-02T03:32:40.933170Z",
     "start_time": "2025-03-02T03:32:40.909005Z"
    }
   },
   "cell_type": "code",
   "source": [
    "# Change to Numpy\n",
    "X_all = df.drop(columns = [\"Class\"]).values[:, 1:]\n",
    "y_all = df[\"Class\"].values"
   ],
   "id": "34617a79db610ea0",
   "outputs": [],
   "execution_count": 319
  },
  {
   "metadata": {},
   "cell_type": "markdown",
   "source": "## Normalize",
   "id": "7c44f8e981b971e8"
  },
  {
   "metadata": {
    "ExecuteTime": {
     "end_time": "2025-03-02T03:32:40.945147Z",
     "start_time": "2025-03-02T03:32:40.943423Z"
    }
   },
   "cell_type": "code",
   "source": [
    "def normalize(X):\n",
    "    mean = np.mean(X, axis = 0)\n",
    "    std = np.std(X, axis = 0)\n",
    "    return (X-mean)/std"
   ],
   "id": "14bbe11572ce2e6",
   "outputs": [],
   "execution_count": 320
  },
  {
   "metadata": {
    "ExecuteTime": {
     "end_time": "2025-03-02T03:32:41.004534Z",
     "start_time": "2025-03-02T03:32:40.959227Z"
    }
   },
   "cell_type": "code",
   "source": "X_all = normalize(X_all)",
   "id": "d306e7aedf27cb4c",
   "outputs": [],
   "execution_count": 321
  },
  {
   "metadata": {},
   "cell_type": "markdown",
   "source": "## Train Test Split",
   "id": "570df7c50bb2272f"
  },
  {
   "metadata": {},
   "cell_type": "code",
   "outputs": [],
   "execution_count": null,
   "source": "#TODO: Train Test Split function",
   "id": "fcd49dc15354b68d"
  },
  {
   "metadata": {},
   "cell_type": "markdown",
   "source": "## Logistic Regression Model",
   "id": "b92f9a69de6066c7"
  },
  {
   "metadata": {
    "ExecuteTime": {
     "end_time": "2025-03-02T03:32:41.010940Z",
     "start_time": "2025-03-02T03:32:41.007434Z"
    }
   },
   "cell_type": "code",
   "source": [
    "class LogisticRegression():\n",
    "    def __init__(self):\n",
    "        self.weights = None\n",
    "        self.costs = None\n",
    "\n",
    "    def sigmoid(self, z):\n",
    "        sig = 1/(1+np.exp(-z))\n",
    "        return sig\n",
    "\n",
    "    def fit(self, X, y, learning_rate = 0.01, iterations = 1000, stopping_threshold = 0.0001):\n",
    "        # Create Bias Column\n",
    "        col_ones = np.ones(shape=(X.shape[0],1))\n",
    "        X = np.concatenate((col_ones, X), axis = 1)\n",
    "\n",
    "        # Reshape y\n",
    "        y = y.reshape(-1, 1)\n",
    "\n",
    "        # Initialize Weights\n",
    "        self.weights = np.zeros((X.shape[1], 1))\n",
    "\n",
    "        # Num Cols\n",
    "        m = X.shape[0]\n",
    "\n",
    "        # Costs\n",
    "        costs = []\n",
    "        cost = 99999 # initialize cost\n",
    "\n",
    "        # Precompute Transpose\n",
    "        X_transpose = X.T\n",
    "\n",
    "        # Gradient Descent\n",
    "        for i in range(iterations):\n",
    "            cost_prev = cost\n",
    "\n",
    "            # Compute Hypothesis Function\n",
    "            h = self.sigmoid(np.dot(X, self.weights))\n",
    "            h = np.clip(h, 1e-15, 1 - 1e-15)\n",
    "\n",
    "            # Compute Gradient\n",
    "            grad = (1/m) * np.dot(X_transpose, h-y)\n",
    "\n",
    "            # Update Weights\n",
    "            self.weights -= learning_rate * grad\n",
    "\n",
    "            # Compute Cost\n",
    "            cost = (-1 / m) * np.sum(y * np.log(h) + (1 - y) * np.log(1 - h))\n",
    "            costs.append(cost)\n",
    "            # print(\"Iteration:\", i)\n",
    "            # print(\"Cost:\", cost)\n",
    "\n",
    "            # Stopping Criteria\n",
    "            if abs(cost_prev-cost) <= stopping_threshold:\n",
    "                self.costs = costs\n",
    "                break\n",
    "\n",
    "        self.costs = costs\n",
    "\n",
    "    def predict(self, X):\n",
    "        # Create Bias Column\n",
    "        col_ones = np.ones(shape=(X.shape[0],1))\n",
    "        X = np.concatenate((col_ones, X), axis = 1)\n",
    "\n",
    "        p = self.sigmoid(np.dot(X, self.weights))\n",
    "        p = p >= 0.5\n",
    "        p = p.astype(int)\n",
    "        return p"
   ],
   "id": "7e9071debcbe7002",
   "outputs": [],
   "execution_count": 322
  },
  {
   "metadata": {},
   "cell_type": "markdown",
   "source": "## Accuracy Score",
   "id": "b7120809ce6780d7"
  },
  {
   "metadata": {
    "ExecuteTime": {
     "end_time": "2025-03-02T03:32:41.019623Z",
     "start_time": "2025-03-02T03:32:41.018079Z"
    }
   },
   "cell_type": "code",
   "source": [
    "def accuracy_score(y_pred, y_true, r=2):\n",
    "    y_true = y_true.reshape(-1, 1)\n",
    "    accuracy_score = (y_pred == y_true).sum() / len(y_true)\n",
    "    accuracy_score = round(accuracy_score, r)\n",
    "    return accuracy_score"
   ],
   "id": "616f85a504cdbc6f",
   "outputs": [],
   "execution_count": 323
  },
  {
   "metadata": {},
   "cell_type": "markdown",
   "source": "## Function Calls",
   "id": "45e5a5d17ea92e84"
  },
  {
   "metadata": {},
   "cell_type": "markdown",
   "source": "### Fit Model",
   "id": "a7362ad5886ab4d9"
  },
  {
   "metadata": {
    "ExecuteTime": {
     "end_time": "2025-03-02T03:32:43.164874Z",
     "start_time": "2025-03-02T03:32:41.026431Z"
    }
   },
   "cell_type": "code",
   "source": [
    "model = LogisticRegression()\n",
    "model.fit(X_all, y_all, learning_rate = 0.5)"
   ],
   "id": "947b56bdeb2727f8",
   "outputs": [],
   "execution_count": 324
  },
  {
   "metadata": {},
   "cell_type": "markdown",
   "source": "### Get Predictions and Accuracy",
   "id": "17a80f69bf103977"
  },
  {
   "metadata": {
    "ExecuteTime": {
     "end_time": "2025-03-02T03:32:43.224275Z",
     "start_time": "2025-03-02T03:32:43.196890Z"
    }
   },
   "cell_type": "code",
   "source": [
    "p = model.predict(X_all)\n",
    "accuracy = accuracy_score(p, y_all)\n",
    "print(f\"Accuracy Score: {accuracy*100}%\")"
   ],
   "id": "2159d27c00afebd0",
   "outputs": [
    {
     "name": "stdout",
     "output_type": "stream",
     "text": [
      "Accuracy Score: 100.0%\n"
     ]
    }
   ],
   "execution_count": 325
  },
  {
   "metadata": {},
   "cell_type": "markdown",
   "source": "### Plot Gradient",
   "id": "aec2dfe9e9ac6f0"
  },
  {
   "metadata": {
    "ExecuteTime": {
     "end_time": "2025-03-02T03:32:43.381494Z",
     "start_time": "2025-03-02T03:32:43.234752Z"
    }
   },
   "cell_type": "code",
   "source": [
    "plt.figure(figsize=(8,6))\n",
    "plt.scatter(range(len(model.costs)), model.costs)\n",
    "plt.xlabel(\"Iterations\")\n",
    "plt.ylabel(\"Cost\")\n",
    "plt.title(\"Costs vs Iterations\")"
   ],
   "id": "83e43f53a8cb06c0",
   "outputs": [
    {
     "data": {
      "text/plain": [
       "Text(0.5, 1.0, 'Costs vs Iterations')"
      ]
     },
     "execution_count": 326,
     "metadata": {},
     "output_type": "execute_result"
    },
    {
     "data": {
      "text/plain": [
       "<Figure size 800x600 with 1 Axes>"
      ],
      "image/png": "[encoded data removed]"
     },
     "metadata": {},
     "output_type": "display_data"
    }
   ],
   "execution_count": 326
  }
 ],
 "metadata": {
  "kernelspec": {
   "display_name": "Python 3",
   "language": "python",
   "name": "python3"
  },
  "language_info": {
   "codemirror_mode": {
    "name": "ipython",
    "version": 2
   },
   "file_extension": ".py",
   "mimetype": "text/x-python",
   "name": "python",
   "nbconvert_exporter": "python",
   "pygments_lexer": "ipython2",
   "version": "2.7.6"
  }
 },
 "nbformat": 4,
 "nbformat_minor": 5
}
