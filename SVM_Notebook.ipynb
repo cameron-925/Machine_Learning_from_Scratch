{
 "cells": [
  {
   "metadata": {},
   "cell_type": "markdown",
   "source": [
    "# Support Vector Machine from Scratch (using Numpy)\n",
    "\n",
    "## Imports"
   ],
   "id": "69df8f0894839545"
  },
  {
   "metadata": {
    "ExecuteTime": {
     "end_time": "2025-03-04T23:36:01.402276Z",
     "start_time": "2025-03-04T23:35:49.031631Z"
    }
   },
   "cell_type": "code",
   "source": [
    "import numpy as np\n",
    "import pandas as pd # for data initialization\n",
    "from sklearn.model_selection import train_test_split\n",
    "from sklearn.datasets import load_breast_cancer"
   ],
   "id": "b83dc3c1c8fe9b82",
   "outputs": [],
   "execution_count": 3
  },
  {
   "metadata": {},
   "cell_type": "markdown",
   "source": "## Initialize Data",
   "id": "b3a4f93c338856a2"
  },
  {
   "metadata": {},
   "cell_type": "code",
   "source": [
    "bc_data = load_breast_cancer()\n",
    "df = pd.DataFrame(bc_data.data, columns=bc_data.feature_names)\n",
    "df['target'] = bc_data.target"
   ],
   "id": "be78e6e80ad14c35",
   "outputs": [],
   "execution_count": null
  },
  {
   "metadata": {
    "ExecuteTime": {
     "end_time": "2025-03-03T22:00:41.948723Z",
     "start_time": "2025-03-03T22:00:41.932446Z"
    }
   },
   "cell_type": "code",
   "source": "X_train, X_test, y_train, y_test = train_test_split(df.drop(columns = ['target']), df['target'], random_state = 0, test_size = 0.2)",
   "id": "72d56eb4ba118632",
   "outputs": [],
   "execution_count": 20
  },
  {
   "metadata": {
    "ExecuteTime": {
     "end_time": "2025-03-03T22:02:24.765019Z",
     "start_time": "2025-03-03T22:02:24.757636Z"
    }
   },
   "cell_type": "code",
   "source": [
    "def normalize(X):\n",
    "    mean = np.mean(X, axis = 0)\n",
    "    std = np.std(X, axis = 0)\n",
    "    return (X-mean) / std"
   ],
   "id": "666df14a30e9ec76",
   "outputs": [],
   "execution_count": 21
  },
  {
   "metadata": {},
   "cell_type": "code",
   "source": [
    "X_train = normalize(X_train)\n",
    "X_test = normalize(X_test)"
   ],
   "id": "54026844d68da762",
   "outputs": [],
   "execution_count": null
  },
  {
   "metadata": {},
   "cell_type": "markdown",
   "source": [
    "## Resources\n",
    "\n",
    "* https://colab.research.google.com/drive/10amh3u9OhefFB0C-3lJo2H53x41I9GnJ?usp=sharing\n",
    "\n",
    "* https://www.youtube.com/watch?v=WdXapAG6TYo"
   ],
   "id": "8396059549c264fa"
  },
  {
   "metadata": {},
   "cell_type": "markdown",
   "source": "## SVM Model",
   "id": "64f38a0be7c0afb2"
  },
  {
   "metadata": {},
   "cell_type": "code",
   "outputs": [],
   "execution_count": null,
   "source": [
    "class SVM():\n",
    "    def __init__(self, learning_rate=0.1, iterations=100, reg_term=1):\n",
    "        self.learning_rate = learning_rate\n",
    "        self.iterations = iterations\n",
    "        self.reg_term = reg_term # regularization term\n",
    "        self.costs = []\n",
    "\n",
    "    def fit(self, X, y, stochastic=True):\n",
    "        # Initialize Size\n",
    "        self.m, self.n = X.shape\n",
    "\n",
    "        # Initialize Weights, Bias, & Gradient\n",
    "        self.w = np.zeros(self.n)\n",
    "        self.b = 0\n",
    "\n",
    "        self.X = X\n",
    "        self.y = y\n",
    "\n",
    "        if stochastic:\n",
    "            for i in range(self.iterations):\n",
    "                self.update_weights_sgd()\n",
    "                self.costs.append(self.cost())\n",
    "        else:\n",
    "            for i in range(self.iterations):\n",
    "                self.update_weights_bgd()\n",
    "                self.costs.append(self.cost())\n",
    "\n",
    "    def predict(self, X):\n",
    "        p = np.dot(X, self.w) + self.b\n",
    "        p = np.sign(p)\n",
    "        p = np.where(p <= -1, 0, 1)\n",
    "        return p\n",
    "\n",
    "    def update_weights_sgd(self):\n",
    "        # Stochastic Gradient Descent:\n",
    "        for i, x_i in enumerate(self.X):\n",
    "\n",
    "            p = self.y[i] * (np.dot(x_i, self.w) + self.b)\n",
    "\n",
    "            if p >= 1:\n",
    "                wg = 2 * self.reg_term * self.w\n",
    "                bg = 0\n",
    "\n",
    "            else:\n",
    "                wg = 2 * self.reg_term * self.w - self.y[i] * x_i\n",
    "                bg = self.y[i]\n",
    "\n",
    "            self.w -= self.learning_rate * wg\n",
    "            self.b -= self.learning_rate * bg\n",
    "\n",
    "    def update_weights_bgd(self):\n",
    "\n",
    "        # Batch Gradient Descent\n",
    "        p = self.y * (np.dot(self.X, self.w) + self.b)\n",
    "\n",
    "        wg_per_sample = np.where(p < 1, 2 * self.reg_term * self.w - np.dot(self.X, self.y), 2 * self.reg_term * self.w)\n",
    "        bg_per_sample = np.where(p < 1, self.y, 0)\n",
    "\n",
    "        wg = np.mean(wg_per_sample, axis = 0)\n",
    "        bg = np.mean(bg_per_sample)\n",
    "\n",
    "        self.w -= self.learning_rate * wg\n",
    "        self.b -= self.learning_rate * bg\n",
    "\n",
    "    def cost(self):\n",
    "        p = np.dot(self.X, self.w) + self.b\n",
    "        h_loss = np.sum(np.maximum(0, 1-self.y * p))\n",
    "        cost = h_loss + 0.5 * np.dot(self.w, self.w)\n",
    "        return cost"
   ],
   "id": "e15fd1602a18fa92"
  },
  {
   "metadata": {},
   "cell_type": "markdown",
   "source": "## Numpy examples",
   "id": "6fea00c1672f0986"
  },
  {
   "metadata": {
    "ExecuteTime": {
     "end_time": "2025-03-05T00:38:30.499271Z",
     "start_time": "2025-03-05T00:38:30.491096Z"
    }
   },
   "cell_type": "code",
   "source": [
    "X1 = np.array([[1,3,2],[1,5,3]])\n",
    "X1"
   ],
   "id": "5c756203fe43e4b6",
   "outputs": [
    {
     "data": {
      "text/plain": [
       "array([[1, 3, 2],\n",
       "       [1, 5, 3]])"
      ]
     },
     "execution_count": 19,
     "metadata": {},
     "output_type": "execute_result"
    }
   ],
   "execution_count": 19
  },
  {
   "metadata": {
    "ExecuteTime": {
     "end_time": "2025-03-04T23:37:22.208780Z",
     "start_time": "2025-03-04T23:37:22.201985Z"
    }
   },
   "cell_type": "code",
   "outputs": [
    {
     "data": {
      "text/plain": [
       "array([[1],\n",
       "       [0],\n",
       "       [0]])"
      ]
     },
     "execution_count": 5,
     "metadata": {},
     "output_type": "execute_result"
    }
   ],
   "execution_count": 5,
   "source": [
    "p1 = np.sign(np.array([[1],[-3],[-4]]))\n",
    "np.where(p1 <= -1, 0, 1)"
   ],
   "id": "d90d1a26f0d8574f"
  },
  {
   "metadata": {
    "ExecuteTime": {
     "end_time": "2025-03-05T00:38:32.069565Z",
     "start_time": "2025-03-05T00:38:32.061440Z"
    }
   },
   "cell_type": "code",
   "source": "np.mean(X1, axis=0)",
   "id": "3cb705f956e5b6b2",
   "outputs": [
    {
     "data": {
      "text/plain": [
       "array([1. , 4. , 2.5])"
      ]
     },
     "execution_count": 20,
     "metadata": {},
     "output_type": "execute_result"
    }
   ],
   "execution_count": 20
  },
  {
   "metadata": {
    "ExecuteTime": {
     "end_time": "2025-03-04T23:57:34.086215Z",
     "start_time": "2025-03-04T23:57:34.079504Z"
    }
   },
   "cell_type": "code",
   "source": [
    "for j, x in enumerate(X1):\n",
    "    print(j)\n",
    "    print(x)"
   ],
   "id": "f6dd1ff884752aa0",
   "outputs": [
    {
     "name": "stdout",
     "output_type": "stream",
     "text": [
      "0\n",
      "[1 3 2]\n",
      "1\n",
      "[1 5 3]\n"
     ]
    }
   ],
   "execution_count": 14
  },
  {
   "metadata": {
    "ExecuteTime": {
     "end_time": "2025-03-04T23:57:35.963331Z",
     "start_time": "2025-03-04T23:57:35.957695Z"
    }
   },
   "cell_type": "code",
   "source": "X1[1]",
   "id": "75abf91dbbd698b9",
   "outputs": [
    {
     "data": {
      "text/plain": [
       "array([1, 5, 3])"
      ]
     },
     "execution_count": 15,
     "metadata": {},
     "output_type": "execute_result"
    }
   ],
   "execution_count": 15
  },
  {
   "metadata": {
    "ExecuteTime": {
     "end_time": "2025-03-04T23:57:37.067217Z",
     "start_time": "2025-03-04T23:57:37.063378Z"
    }
   },
   "cell_type": "code",
   "source": "len(X1)",
   "id": "3d7b2547421b9272",
   "outputs": [
    {
     "data": {
      "text/plain": [
       "2"
      ]
     },
     "execution_count": 16,
     "metadata": {},
     "output_type": "execute_result"
    }
   ],
   "execution_count": 16
  },
  {
   "metadata": {
    "ExecuteTime": {
     "end_time": "2025-03-05T00:12:21.871025Z",
     "start_time": "2025-03-05T00:12:21.829428Z"
    }
   },
   "cell_type": "code",
   "source": "np.where(X1 >=3, 0, 1)",
   "id": "7fc7ae962f1a1c30",
   "outputs": [
    {
     "data": {
      "text/plain": [
       "array([[1, 0, 1],\n",
       "       [1, 0, 0]])"
      ]
     },
     "execution_count": 17,
     "metadata": {},
     "output_type": "execute_result"
    }
   ],
   "execution_count": 17
  },
  {
   "metadata": {
    "ExecuteTime": {
     "end_time": "2025-03-05T01:02:19.817175Z",
     "start_time": "2025-03-05T01:02:19.812240Z"
    }
   },
   "cell_type": "code",
   "source": [
    "vector = np.array([1, 2, 3])\n",
    "vector.shape"
   ],
   "id": "2b3989a6cd246db7",
   "outputs": [
    {
     "data": {
      "text/plain": [
       "(3,)"
      ]
     },
     "execution_count": 23,
     "metadata": {},
     "output_type": "execute_result"
    }
   ],
   "execution_count": 23
  }
 ],
 "metadata": {
  "kernelspec": {
   "name": "python3",
   "language": "python",
   "display_name": "Python 3 (ipykernel)"
  }
 },
 "nbformat": 5,
 "nbformat_minor": 9
}
