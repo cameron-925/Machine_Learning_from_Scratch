{
 "cells": [
  {
   "metadata": {},
   "cell_type": "markdown",
   "source": [
    "# Support Vector Machine from Scratch (using Numpy)\n",
    "\n",
    "## Imports"
   ],
   "id": "69df8f0894839545"
  },
  {
   "metadata": {
    "ExecuteTime": {
     "end_time": "2025-03-05T03:58:08.399022Z",
     "start_time": "2025-03-05T03:58:08.393793Z"
    }
   },
   "cell_type": "code",
   "source": [
    "import numpy as np\n",
    "import pandas as pd # for data initialization\n",
    "from sklearn.model_selection import train_test_split\n",
    "from sklearn.datasets import load_breast_cancer\n",
    "import matplotlib.pyplot as plt"
   ],
   "id": "b83dc3c1c8fe9b82",
   "outputs": [],
   "execution_count": 809
  },
  {
   "metadata": {},
   "cell_type": "markdown",
   "source": "## Initialize Data",
   "id": "b3a4f93c338856a2"
  },
  {
   "metadata": {
    "ExecuteTime": {
     "end_time": "2025-03-05T03:58:08.415187Z",
     "start_time": "2025-03-05T03:58:08.404756Z"
    }
   },
   "cell_type": "code",
   "source": [
    "bc_data = load_breast_cancer()\n",
    "df = pd.DataFrame(bc_data.data, columns=bc_data.feature_names)\n",
    "df['target'] = bc_data.target"
   ],
   "id": "be78e6e80ad14c35",
   "outputs": [],
   "execution_count": 810
  },
  {
   "metadata": {
    "ExecuteTime": {
     "end_time": "2025-03-05T03:58:08.439278Z",
     "start_time": "2025-03-05T03:58:08.429796Z"
    }
   },
   "cell_type": "code",
   "source": "X_train, X_test, y_train, y_test = train_test_split(df.drop(columns = ['target']), df['target'], random_state = 0, test_size = 0.2)",
   "id": "72d56eb4ba118632",
   "outputs": [],
   "execution_count": 811
  },
  {
   "metadata": {
    "ExecuteTime": {
     "end_time": "2025-03-05T03:58:08.462067Z",
     "start_time": "2025-03-05T03:58:08.459958Z"
    }
   },
   "cell_type": "code",
   "source": [
    "def normalize(X):\n",
    "    mean = np.mean(X, axis = 0)\n",
    "    std = np.std(X, axis = 0)\n",
    "    return (X-mean) / std"
   ],
   "id": "666df14a30e9ec76",
   "outputs": [],
   "execution_count": 812
  },
  {
   "metadata": {
    "ExecuteTime": {
     "end_time": "2025-03-05T03:58:08.478443Z",
     "start_time": "2025-03-05T03:58:08.474779Z"
    }
   },
   "cell_type": "code",
   "source": [
    "X_train = normalize(X_train).values\n",
    "X_test = normalize(X_test).values\n",
    "\n",
    "y_train = y_train.values\n",
    "y_test = y_test.values"
   ],
   "id": "54026844d68da762",
   "outputs": [],
   "execution_count": 813
  },
  {
   "metadata": {},
   "cell_type": "markdown",
   "source": [
    "## Resources\n",
    "\n",
    "* https://colab.research.google.com/drive/10amh3u9OhefFB0C-3lJo2H53x41I9GnJ?usp=sharing\n",
    "\n",
    "* https://www.youtube.com/watch?v=WdXapAG6TYo"
   ],
   "id": "8396059549c264fa"
  },
  {
   "metadata": {},
   "cell_type": "markdown",
   "source": "## SVM Model",
   "id": "64f38a0be7c0afb2"
  },
  {
   "metadata": {
    "ExecuteTime": {
     "end_time": "2025-03-05T03:58:08.498446Z",
     "start_time": "2025-03-05T03:58:08.487439Z"
    }
   },
   "cell_type": "code",
   "source": [
    "class SVM():\n",
    "    def __init__(self, learning_rate=1e-4, iterations=100, reg_term=0.01):\n",
    "        self.learning_rate = learning_rate\n",
    "        self.iterations = iterations\n",
    "        self.reg_term = reg_term # Regularization Term\n",
    "        self.costs = [] # Cost History for Gradient Descent Cost Graph\n",
    "\n",
    "    def fit(self, X, y, stochastic=True):\n",
    "        # Initialize Size\n",
    "        self.m, self.n = X.shape\n",
    "\n",
    "        # Initialize Weights, Bias, X, & y\n",
    "        self.w = np.zeros(self.n)\n",
    "        self.b = 0\n",
    "        self.X = X\n",
    "        self.y = y\n",
    "\n",
    "        self.X_transpose = X.T # For Batch Gradient Descent Computational Efficiency\n",
    "\n",
    "        if stochastic:\n",
    "            for i in range(self.iterations):\n",
    "                self.update_weights_sgd()\n",
    "                self.costs.append(self.cost())\n",
    "        else:\n",
    "            for i in range(self.iterations):\n",
    "                self.update_weights_bgd()\n",
    "                self.costs.append(self.cost())\n",
    "\n",
    "    def predict(self, X):\n",
    "        p = np.dot(X, self.w) + self.b\n",
    "        p = np.sign(p)\n",
    "        p = np.where(p <= -1, 0, 1)\n",
    "        return p\n",
    "\n",
    "    def update_weights_sgd(self): # Stochastic Gradient Descent\n",
    "\n",
    "        # Label Encoding\n",
    "        y_label = np.where(self.y <= 0, -1, 1)\n",
    "\n",
    "        # For each row in X (index, row values)\n",
    "        for i, x_i in enumerate(self.X):\n",
    "\n",
    "            # Gradient Condition\n",
    "            p = y_label[i] * (np.dot(x_i, self.w) - self.b)\n",
    "\n",
    "            if p >= 1:\n",
    "                wg = 2 * self.reg_term * self.w\n",
    "                bg = 0\n",
    "\n",
    "            else:\n",
    "                wg = 2 * self.reg_term * self.w - np.dot(x_i, y_label[i])\n",
    "                bg = y_label[i]\n",
    "\n",
    "            # Update Weights\n",
    "            self.w -= self.learning_rate * wg\n",
    "            self.b -= self.learning_rate * bg\n",
    "\n",
    "    def update_weights_bgd(self): # Batch Gradient Descent\n",
    "\n",
    "        # Label Encoding\n",
    "        y_label = np.where(self.y <= 0, -1, 1)\n",
    "\n",
    "        # Create Condition for Gradient and Apply\n",
    "        p = y_label * (np.dot(self.X, self.w) + self.b) # Raw Prediction (-1, 1)\n",
    "        hinge_loss_grad = np.where(p >= 1, 0, self.y)\n",
    "\n",
    "        # Compute and Average Gradients\n",
    "        wg = (1/ self.m) * 2 * self.reg_term * self.w - np.dot(self.X_transpose, hinge_loss_grad)\n",
    "        bg = (1 / self.m) * np.sum(hinge_loss_grad)\n",
    "\n",
    "        # Update\n",
    "        self.w -= self.learning_rate * wg\n",
    "        self.b -= self.learning_rate * bg\n",
    "\n",
    "    def cost(self):\n",
    "        p = np.dot(self.X, self.w) + self.b\n",
    "        h_loss = np.sum(np.maximum(0, 1-self.y * p))\n",
    "        cost = h_loss + 0.5 * np.dot(self.w, self.w)\n",
    "        return cost"
   ],
   "id": "e15fd1602a18fa92",
   "outputs": [],
   "execution_count": 814
  },
  {
   "metadata": {},
   "cell_type": "markdown",
   "source": "## Accuracy Score",
   "id": "7f0ac1efd683149c"
  },
  {
   "metadata": {
    "ExecuteTime": {
     "end_time": "2025-03-05T03:58:08.513866Z",
     "start_time": "2025-03-05T03:58:08.511282Z"
    }
   },
   "cell_type": "code",
   "source": [
    "def accuracy_score(y_pred, y_true, r=2):\n",
    "    y_pred = y_pred.reshape(-1, 1)\n",
    "    y_true = y_true.reshape(-1, 1)\n",
    "\n",
    "    acc = (y_pred == y_true).sum() / len(y_true)\n",
    "    acc = round(acc, r)\n",
    "    return acc"
   ],
   "id": "4d2366f0d7dbd3d0",
   "outputs": [],
   "execution_count": 815
  },
  {
   "metadata": {},
   "cell_type": "markdown",
   "source": "## Stochastic Gradient Descent",
   "id": "c1feb043c2ac5081"
  },
  {
   "metadata": {
    "ExecuteTime": {
     "end_time": "2025-03-05T03:58:08.816312Z",
     "start_time": "2025-03-05T03:58:08.523539Z"
    }
   },
   "cell_type": "code",
   "source": [
    "model = SVM()\n",
    "model.fit(X_train, y_train)\n",
    "p = model.predict(X_train)\n",
    "accuracy = accuracy_score(y_train, p)\n",
    "print(f\"Training Accuracy: {accuracy}\")\n",
    "p = model.predict(X_test)\n",
    "accuracy = accuracy_score(y_test, p)\n",
    "print(f\"Test Accuracy: {accuracy}\")"
   ],
   "id": "e52d87cca784ebcc",
   "outputs": [
    {
     "name": "stdout",
     "output_type": "stream",
     "text": [
      "Training Accuracy: 0.97\n",
      "Test Accuracy: 0.95\n"
     ]
    }
   ],
   "execution_count": 816
  },
  {
   "metadata": {
    "ExecuteTime": {
     "end_time": "2025-03-05T03:58:08.973574Z",
     "start_time": "2025-03-05T03:58:08.894622Z"
    }
   },
   "cell_type": "code",
   "source": [
    "plt.scatter(list(range(len(model.costs))), model.costs)\n",
    "plt.xlabel(\"Iteration\")\n",
    "plt.ylabel(\"Cost\")\n",
    "plt.title(\"SVM Cost vs Iteration (SGD)\")\n",
    "plt.show()"
   ],
   "id": "8d870209352ecdf7",
   "outputs": [
    {
     "data": {
      "text/plain": [
       "<Figure size 640x480 with 1 Axes>"
      ],
      "image/png": "[encoded data removed]"
     },
     "metadata": {},
     "output_type": "display_data"
    }
   ],
   "execution_count": 817
  },
  {
   "metadata": {},
   "cell_type": "markdown",
   "source": "## Batch Gradient Descent",
   "id": "29ed35396073fb67"
  },
  {
   "metadata": {
    "ExecuteTime": {
     "end_time": "2025-03-05T03:58:09.040645Z",
     "start_time": "2025-03-05T03:58:09.014233Z"
    }
   },
   "cell_type": "code",
   "source": [
    "model = SVM()\n",
    "model.fit(X_train, y_train, stochastic = False)\n",
    "p = model.predict(X_train)\n",
    "accuracy = accuracy_score(y_train, p)\n",
    "print(f\"Training Accuracy: {accuracy}\")\n",
    "p = model.predict(X_test)\n",
    "accuracy = accuracy_score(y_test, p)\n",
    "print(f\"Test Accuracy: {accuracy}\")"
   ],
   "id": "91d7b61845466072",
   "outputs": [
    {
     "name": "stdout",
     "output_type": "stream",
     "text": [
      "Training Accuracy: 0.98\n",
      "Test Accuracy: 0.95\n"
     ]
    }
   ],
   "execution_count": 818
  },
  {
   "metadata": {
    "ExecuteTime": {
     "end_time": "2025-03-05T03:58:09.163865Z",
     "start_time": "2025-03-05T03:58:09.072792Z"
    }
   },
   "cell_type": "code",
   "source": [
    "plt.scatter(list(range(len(model.costs))), model.costs)\n",
    "plt.xlabel(\"Iteration\")\n",
    "plt.ylabel(\"Cost\")\n",
    "plt.title(\"SVM Cost vs Iteration (BGD)\")\n",
    "plt.show()"
   ],
   "id": "31c21d422a2bf3e0",
   "outputs": [
    {
     "data": {
      "text/plain": [
       "<Figure size 640x480 with 1 Axes>"
      ],
      "image/png": "[encoded data removed]"
     },
     "metadata": {},
     "output_type": "display_data"
    }
   ],
   "execution_count": 819
  }
 ],
 "metadata": {
  "kernelspec": {
   "name": "python3",
   "language": "python",
   "display_name": "Python 3 (ipykernel)"
  }
 },
 "nbformat": 5,
 "nbformat_minor": 9
}
