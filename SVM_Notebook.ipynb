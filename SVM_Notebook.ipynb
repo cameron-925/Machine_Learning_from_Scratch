{
 "cells": [
  {
   "metadata": {},
   "cell_type": "markdown",
   "source": [
    "# Support Vector Machine from Scratch (using Numpy)\n",
    "\n",
    "## Imports"
   ],
   "id": "69df8f0894839545"
  },
  {
   "metadata": {
    "ExecuteTime": {
     "end_time": "2025-03-03T21:55:00.986688Z",
     "start_time": "2025-03-03T21:55:00.979889Z"
    }
   },
   "cell_type": "code",
   "source": [
    "import numpy as np\n",
    "import pandas as pd # for data initialization\n",
    "from sklearn.model_selection import train_test_split\n",
    "from sklearn.datasets import load_breast_cancer"
   ],
   "id": "b83dc3c1c8fe9b82",
   "outputs": [],
   "execution_count": 5
  },
  {
   "metadata": {},
   "cell_type": "markdown",
   "source": "## Initialize Data",
   "id": "b3a4f93c338856a2"
  },
  {
   "metadata": {},
   "cell_type": "code",
   "source": [
    "bc_data = load_breast_cancer()\n",
    "df = pd.DataFrame(bc_data.data, columns=bc_data.feature_names)\n",
    "df['target'] = bc_data.target"
   ],
   "id": "be78e6e80ad14c35",
   "outputs": [],
   "execution_count": null
  },
  {
   "metadata": {
    "ExecuteTime": {
     "end_time": "2025-03-03T22:00:41.948723Z",
     "start_time": "2025-03-03T22:00:41.932446Z"
    }
   },
   "cell_type": "code",
   "source": "X_train, X_test, y_train, y_test = train_test_split(df.drop(columns = ['target']), df['target'], random_state = 0, test_size = 0.2)",
   "id": "72d56eb4ba118632",
   "outputs": [],
   "execution_count": 20
  },
  {
   "metadata": {
    "ExecuteTime": {
     "end_time": "2025-03-03T22:02:24.765019Z",
     "start_time": "2025-03-03T22:02:24.757636Z"
    }
   },
   "cell_type": "code",
   "source": [
    "def normalize(X):\n",
    "    mean = np.mean(X, axis = 0)\n",
    "    std = np.std(X, axis = 0)\n",
    "    return (X-mean) / std"
   ],
   "id": "666df14a30e9ec76",
   "outputs": [],
   "execution_count": 21
  },
  {
   "metadata": {},
   "cell_type": "code",
   "source": [
    "X_train = normalize(X_train)\n",
    "X_test = normalize(X_test)"
   ],
   "id": "54026844d68da762",
   "outputs": [],
   "execution_count": null
  },
  {
   "metadata": {},
   "cell_type": "markdown",
   "source": "## SVM Model",
   "id": "64f38a0be7c0afb2"
  },
  {
   "metadata": {},
   "cell_type": "code",
   "outputs": [],
   "execution_count": null,
   "source": [
    "class svm():\n",
    "    def __init__(self):\n",
    "        self.weights = None\n",
    "        self.costs = None"
   ],
   "id": "cfbf55e72bba53ed"
  }
 ],
 "metadata": {
  "kernelspec": {
   "name": "python3",
   "language": "python",
   "display_name": "Python 3 (ipykernel)"
  }
 },
 "nbformat": 5,
 "nbformat_minor": 9
}
