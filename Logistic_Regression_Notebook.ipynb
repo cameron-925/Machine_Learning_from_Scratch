{
 "cells": [
  {
   "metadata": {},
   "cell_type": "markdown",
   "source": [
    "# Logistic Regression from Scratch (using Numpy)\n",
    "\n",
    "## Import Numpy (and Pandas + Sklearn for Preprocessing)"
   ],
   "id": "a5edecc4469dc3ba"
  },
  {
   "metadata": {
    "collapsed": true,
    "ExecuteTime": {
     "end_time": "2025-03-03T05:25:31.197879Z",
     "start_time": "2025-03-03T05:25:31.192334Z"
    }
   },
   "cell_type": "code",
   "source": [
    "import pandas as pd\n",
    "import numpy as np\n",
    "import matplotlib.pyplot as plt\n",
    "from sklearn.model_selection import train_test_split\n",
    "from sklearn.datasets import load_breast_cancer"
   ],
   "id": "23e26aa290c9fabd",
   "outputs": [],
   "execution_count": 184
  },
  {
   "metadata": {},
   "cell_type": "markdown",
   "source": "## Check Data (pandas)",
   "id": "6f46eb618556ca0c"
  },
  {
   "metadata": {
    "ExecuteTime": {
     "end_time": "2025-03-03T05:25:31.222510Z",
     "start_time": "2025-03-03T05:25:31.211126Z"
    }
   },
   "cell_type": "code",
   "source": "bc = load_breast_cancer()",
   "id": "f33e40bb4fab2a25",
   "outputs": [],
   "execution_count": 185
  },
  {
   "metadata": {
    "ExecuteTime": {
     "end_time": "2025-03-03T05:25:31.236863Z",
     "start_time": "2025-03-03T05:25:31.232714Z"
    }
   },
   "cell_type": "code",
   "source": [
    "# Read in Pandas\n",
    "df = pd.DataFrame(bc.data, columns = bc.feature_names)\n",
    "df[\"target\"] = bc.target\n",
    "df.head()\n",
    "print(\"Number of Observations:\", len(df))\n",
    "print(\"Number of Variables:\", len(df.columns))"
   ],
   "id": "4876954cfc50b2c1",
   "outputs": [
    {
     "name": "stdout",
     "output_type": "stream",
     "text": [
      "Number of Observations: 569\n",
      "Number of Variables: 31\n"
     ]
    }
   ],
   "execution_count": 186
  },
  {
   "metadata": {
    "ExecuteTime": {
     "end_time": "2025-03-03T05:25:31.315778Z",
     "start_time": "2025-03-03T05:25:31.312948Z"
    }
   },
   "cell_type": "code",
   "source": "print(f\"Skew: {round((df.target.sum() / len(df))*100, 2)}%\")",
   "id": "cf81837f25e6c12d",
   "outputs": [
    {
     "name": "stdout",
     "output_type": "stream",
     "text": [
      "Skew: 62.74%\n"
     ]
    }
   ],
   "execution_count": 187
  },
  {
   "metadata": {
    "ExecuteTime": {
     "end_time": "2025-03-03T05:25:31.338173Z",
     "start_time": "2025-03-03T05:25:31.332126Z"
    }
   },
   "cell_type": "code",
   "source": [
    "# Check for Null Columns\n",
    "null_index = {}\n",
    "for col in list(df.columns):\n",
    "    null_index[col] = int(df[col].isnull().sum())"
   ],
   "id": "da569279b4a6cbd4",
   "outputs": [],
   "execution_count": 188
  },
  {
   "metadata": {
    "ExecuteTime": {
     "end_time": "2025-03-03T05:25:31.370905Z",
     "start_time": "2025-03-03T05:25:31.367121Z"
    }
   },
   "cell_type": "code",
   "source": [
    "# View Dictionary\n",
    "null_index"
   ],
   "id": "e664d66515928669",
   "outputs": [
    {
     "data": {
      "text/plain": [
       "{'mean radius': 0,\n",
       " 'mean texture': 0,\n",
       " 'mean perimeter': 0,\n",
       " 'mean area': 0,\n",
       " 'mean smoothness': 0,\n",
       " 'mean compactness': 0,\n",
       " 'mean concavity': 0,\n",
       " 'mean concave points': 0,\n",
       " 'mean symmetry': 0,\n",
       " 'mean fractal dimension': 0,\n",
       " 'radius error': 0,\n",
       " 'texture error': 0,\n",
       " 'perimeter error': 0,\n",
       " 'area error': 0,\n",
       " 'smoothness error': 0,\n",
       " 'compactness error': 0,\n",
       " 'concavity error': 0,\n",
       " 'concave points error': 0,\n",
       " 'symmetry error': 0,\n",
       " 'fractal dimension error': 0,\n",
       " 'worst radius': 0,\n",
       " 'worst texture': 0,\n",
       " 'worst perimeter': 0,\n",
       " 'worst area': 0,\n",
       " 'worst smoothness': 0,\n",
       " 'worst compactness': 0,\n",
       " 'worst concavity': 0,\n",
       " 'worst concave points': 0,\n",
       " 'worst symmetry': 0,\n",
       " 'worst fractal dimension': 0,\n",
       " 'target': 0}"
      ]
     },
     "execution_count": 189,
     "metadata": {},
     "output_type": "execute_result"
    }
   ],
   "execution_count": 189
  },
  {
   "metadata": {},
   "cell_type": "markdown",
   "source": "### Change to Numpy",
   "id": "185a5f1211d8fd34"
  },
  {
   "metadata": {
    "ExecuteTime": {
     "end_time": "2025-03-03T05:25:31.397514Z",
     "start_time": "2025-03-03T05:25:31.393548Z"
    }
   },
   "cell_type": "code",
   "source": [
    "X_all = df.drop(columns = [\"target\"]).values[:, 1:]\n",
    "y_all = df[\"target\"].values"
   ],
   "id": "34617a79db610ea0",
   "outputs": [],
   "execution_count": 190
  },
  {
   "metadata": {},
   "cell_type": "markdown",
   "source": "## Train Test Split Sklearn",
   "id": "a6bbff2675076c69"
  },
  {
   "metadata": {
    "ExecuteTime": {
     "end_time": "2025-03-03T05:25:31.419273Z",
     "start_time": "2025-03-03T05:25:31.412277Z"
    }
   },
   "cell_type": "code",
   "source": "X_train, X_test, y_train, y_test = train_test_split(X_all, y_all, random_state = 0, test_size = 0.2)",
   "id": "1d80e220bc120caa",
   "outputs": [],
   "execution_count": 191
  },
  {
   "metadata": {},
   "cell_type": "markdown",
   "source": "## Normalize",
   "id": "7c44f8e981b971e8"
  },
  {
   "metadata": {
    "ExecuteTime": {
     "end_time": "2025-03-03T05:25:31.432904Z",
     "start_time": "2025-03-03T05:25:31.429724Z"
    }
   },
   "cell_type": "code",
   "source": [
    "def normalize(X):\n",
    "    mean = np.mean(X, axis = 0)\n",
    "    std = np.std(X, axis = 0)\n",
    "    return (X-mean)/std"
   ],
   "id": "14bbe11572ce2e6",
   "outputs": [],
   "execution_count": 192
  },
  {
   "metadata": {
    "ExecuteTime": {
     "end_time": "2025-03-03T05:25:31.446134Z",
     "start_time": "2025-03-03T05:25:31.443606Z"
    }
   },
   "cell_type": "code",
   "source": [
    "X_train = normalize(X_train)\n",
    "X_test = normalize(X_test)"
   ],
   "id": "d306e7aedf27cb4c",
   "outputs": [],
   "execution_count": 193
  },
  {
   "metadata": {},
   "cell_type": "markdown",
   "source": "## Logistic Regression Model",
   "id": "b92f9a69de6066c7"
  },
  {
   "metadata": {
    "ExecuteTime": {
     "end_time": "2025-03-03T05:25:31.475087Z",
     "start_time": "2025-03-03T05:25:31.467126Z"
    }
   },
   "cell_type": "code",
   "source": [
    "class LogisticRegression():\n",
    "    def __init__(self):\n",
    "        self.weights = None\n",
    "        self.costs = None\n",
    "\n",
    "    def sigmoid(self, z):\n",
    "        sig = 1/(1+np.exp(-z))\n",
    "        return sig\n",
    "\n",
    "    def fit(self, X, y, learning_rate = 0.01, iterations = 100, stopping_threshold = 1e-4):\n",
    "        # Using Batch Gradient Descent\n",
    "        #TODO: Implement Stochastic Gradient Descent\n",
    "\n",
    "        # Create Bias Column\n",
    "        col_ones = np.ones(shape=(X.shape[0],1))\n",
    "        X = np.concatenate((col_ones, X), axis = 1)\n",
    "\n",
    "        # Reshape y\n",
    "        y = y.reshape(-1, 1)\n",
    "\n",
    "        # Initialize Weights\n",
    "        self.weights = np.zeros((X.shape[1], 1))\n",
    "\n",
    "        # Num Cols\n",
    "        m = X.shape[0]\n",
    "\n",
    "        # Costs\n",
    "        costs = []\n",
    "        cost = 99999 # initialize cost\n",
    "\n",
    "        # Precompute Transpose\n",
    "        X_transpose = X.T\n",
    "\n",
    "        # Gradient Descent\n",
    "        for i in range(iterations):\n",
    "            cost_prev = cost\n",
    "\n",
    "            # Compute Hypothesis Function\n",
    "            h = self.sigmoid(np.dot(X, self.weights))\n",
    "            h = np.clip(h, 1e-15, 1 - 1e-15)\n",
    "\n",
    "            # Compute Gradient\n",
    "            grad = (1/m) * np.dot(X_transpose, h-y)\n",
    "\n",
    "            # Update Weights\n",
    "            self.weights -= learning_rate * grad\n",
    "\n",
    "            # Compute Cost\n",
    "            cost = (-1 / m) * np.sum(y * np.log(h) + (1 - y) * np.log(1 - h))\n",
    "            costs.append(cost)\n",
    "            # print(\"Iteration:\", i)\n",
    "            # print(\"Cost:\", cost)\n",
    "\n",
    "            # Stopping Criteria\n",
    "            if abs(cost_prev-cost) <= stopping_threshold:\n",
    "                self.costs = costs\n",
    "                break\n",
    "\n",
    "        self.costs = costs\n",
    "\n",
    "    def predict(self, X):\n",
    "        # Create Bias Column\n",
    "        col_ones = np.ones(shape=(X.shape[0],1))\n",
    "        X = np.concatenate((col_ones, X), axis = 1)\n",
    "\n",
    "        p = self.sigmoid(np.dot(X, self.weights))\n",
    "        p = p >= 0.5\n",
    "        p = p.astype(int)\n",
    "        return p"
   ],
   "id": "7e9071debcbe7002",
   "outputs": [],
   "execution_count": 194
  },
  {
   "metadata": {},
   "cell_type": "markdown",
   "source": "## Accuracy Score",
   "id": "b7120809ce6780d7"
  },
  {
   "metadata": {
    "ExecuteTime": {
     "end_time": "2025-03-03T05:25:31.481487Z",
     "start_time": "2025-03-03T05:25:31.479552Z"
    }
   },
   "cell_type": "code",
   "source": [
    "def accuracy_score(y_pred, y_true, r=2):\n",
    "    y_pred.reshape(-1, 1)\n",
    "    y_true = y_true.reshape(-1, 1)\n",
    "\n",
    "    acc = (y_pred == y_true).sum() / len(y_true)\n",
    "    acc = round(acc, r)\n",
    "    return acc"
   ],
   "id": "616f85a504cdbc6f",
   "outputs": [],
   "execution_count": 195
  },
  {
   "metadata": {},
   "cell_type": "markdown",
   "source": "## Function Calls",
   "id": "45e5a5d17ea92e84"
  },
  {
   "metadata": {},
   "cell_type": "markdown",
   "source": "### Fit Model",
   "id": "a7362ad5886ab4d9"
  },
  {
   "metadata": {
    "ExecuteTime": {
     "end_time": "2025-03-03T05:25:31.531155Z",
     "start_time": "2025-03-03T05:25:31.492943Z"
    }
   },
   "cell_type": "code",
   "source": [
    "model = LogisticRegression()\n",
    "model.fit(X_train, y_train, learning_rate = 0.5)"
   ],
   "id": "947b56bdeb2727f8",
   "outputs": [],
   "execution_count": 196
  },
  {
   "metadata": {},
   "cell_type": "markdown",
   "source": "### Get Predictions and Accuracy",
   "id": "17a80f69bf103977"
  },
  {
   "metadata": {
    "ExecuteTime": {
     "end_time": "2025-03-03T05:25:31.571205Z",
     "start_time": "2025-03-03T05:25:31.559401Z"
    }
   },
   "cell_type": "code",
   "source": [
    "p = model.predict(X_train)\n",
    "accuracy = accuracy_score(p, y_train)\n",
    "print(f\"Train Accuracy: {accuracy*100}%\")"
   ],
   "id": "30e9825a8c89eb91",
   "outputs": [
    {
     "name": "stdout",
     "output_type": "stream",
     "text": [
      "Train Accuracy: 99.0%\n"
     ]
    }
   ],
   "execution_count": 197
  },
  {
   "metadata": {
    "ExecuteTime": {
     "end_time": "2025-03-03T05:25:31.601260Z",
     "start_time": "2025-03-03T05:25:31.585848Z"
    }
   },
   "cell_type": "code",
   "source": [
    "p = model.predict(X_test)\n",
    "accuracy = accuracy_score(p, y_test)\n",
    "print(f\"Test Accuracy: {accuracy*100}%\")"
   ],
   "id": "2159d27c00afebd0",
   "outputs": [
    {
     "name": "stdout",
     "output_type": "stream",
     "text": [
      "Test Accuracy: 96.0%\n"
     ]
    }
   ],
   "execution_count": 198
  },
  {
   "metadata": {},
   "cell_type": "markdown",
   "source": "### Plot Gradient",
   "id": "aec2dfe9e9ac6f0"
  },
  {
   "metadata": {
    "ExecuteTime": {
     "end_time": "2025-03-03T05:25:31.759676Z",
     "start_time": "2025-03-03T05:25:31.617411Z"
    }
   },
   "cell_type": "code",
   "source": [
    "plt.figure(figsize=(8,6))\n",
    "plt.scatter(range(len(model.costs)), model.costs)\n",
    "plt.xlabel(\"Iterations\")\n",
    "plt.ylabel(\"Cost\")\n",
    "plt.title(\"Costs vs Iterations\")"
   ],
   "id": "83e43f53a8cb06c0",
   "outputs": [
    {
     "data": {
      "text/plain": [
       "Text(0.5, 1.0, 'Costs vs Iterations')"
      ]
     },
     "execution_count": 199,
     "metadata": {},
     "output_type": "execute_result"
    },
    {
     "data": {
      "text/plain": [
       "<Figure size 800x600 with 1 Axes>"
      ],
      "image/png": "[encoded data removed]"
     },
     "metadata": {},
     "output_type": "display_data"
    }
   ],
   "execution_count": 199
  }
 ],
 "metadata": {
  "kernelspec": {
   "display_name": "Python 3",
   "language": "python",
   "name": "python3"
  },
  "language_info": {
   "codemirror_mode": {
    "name": "ipython",
    "version": 2
   },
   "file_extension": ".py",
   "mimetype": "text/x-python",
   "name": "python",
   "nbconvert_exporter": "python",
   "pygments_lexer": "ipython2",
   "version": "2.7.6"
  }
 },
 "nbformat": 4,
 "nbformat_minor": 5
}
