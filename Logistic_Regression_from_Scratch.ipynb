{
 "cells": [
  {
   "metadata": {},
   "cell_type": "markdown",
   "source": [
    "# Logistic Regression from Scratch using Numpy\n",
    "\n",
    "## Import Numpy and Pandas for Preprocessing"
   ],
   "id": "a604d3e05a29b679"
  },
  {
   "metadata": {
    "collapsed": true,
    "ExecuteTime": {
     "end_time": "2025-03-01T05:01:03.787103Z",
     "start_time": "2025-03-01T05:01:03.779611Z"
    }
   },
   "cell_type": "code",
   "source": [
    "import pandas as pd\n",
    "import numpy as np\n",
    "import matplotlib.pyplot as plt"
   ],
   "id": "initial_id",
   "outputs": [],
   "execution_count": 25
  },
  {
   "metadata": {},
   "cell_type": "markdown",
   "source": "## Check Data (pandas)",
   "id": "b3bfe57e9baf34d6"
  },
  {
   "metadata": {
    "ExecuteTime": {
     "end_time": "2025-03-01T05:01:04.720459Z",
     "start_time": "2025-03-01T05:01:03.792812Z"
    }
   },
   "cell_type": "code",
   "source": [
    "# Read in Pandas\n",
    "df = pd.read_csv(\"creditcard.csv\")\n",
    "df.head()\n",
    "print(\"Number of Observations:\", len(df))\n",
    "print(\"Number of Variables:\", len(df.columns))"
   ],
   "id": "9ab53c385be4d144",
   "outputs": [
    {
     "name": "stdout",
     "output_type": "stream",
     "text": [
      "Number of Observations: 284807\n",
      "Number of Variables: 31\n"
     ]
    }
   ],
   "execution_count": 26
  },
  {
   "metadata": {
    "ExecuteTime": {
     "end_time": "2025-03-01T05:01:04.751988Z",
     "start_time": "2025-03-01T05:01:04.738566Z"
    }
   },
   "cell_type": "code",
   "source": [
    "# Check for Null Columns\n",
    "null_index = {}\n",
    "for col in list(df.columns):\n",
    "    null_index[col] = int(df[col].isnull().sum())"
   ],
   "id": "98d8179d7494e1e0",
   "outputs": [],
   "execution_count": 27
  },
  {
   "metadata": {
    "ExecuteTime": {
     "end_time": "2025-03-01T05:01:04.757885Z",
     "start_time": "2025-03-01T05:01:04.755273Z"
    }
   },
   "cell_type": "code",
   "source": [
    "# View Dictionary\n",
    "null_index"
   ],
   "id": "14739a205a4e8ab0",
   "outputs": [
    {
     "data": {
      "text/plain": [
       "{'Time': 0,\n",
       " 'V1': 0,\n",
       " 'V2': 0,\n",
       " 'V3': 0,\n",
       " 'V4': 0,\n",
       " 'V5': 0,\n",
       " 'V6': 0,\n",
       " 'V7': 0,\n",
       " 'V8': 0,\n",
       " 'V9': 0,\n",
       " 'V10': 0,\n",
       " 'V11': 0,\n",
       " 'V12': 0,\n",
       " 'V13': 0,\n",
       " 'V14': 0,\n",
       " 'V15': 0,\n",
       " 'V16': 0,\n",
       " 'V17': 0,\n",
       " 'V18': 0,\n",
       " 'V19': 0,\n",
       " 'V20': 0,\n",
       " 'V21': 0,\n",
       " 'V22': 0,\n",
       " 'V23': 0,\n",
       " 'V24': 0,\n",
       " 'V25': 0,\n",
       " 'V26': 0,\n",
       " 'V27': 0,\n",
       " 'V28': 0,\n",
       " 'Amount': 0,\n",
       " 'Class': 0}"
      ]
     },
     "execution_count": 28,
     "metadata": {},
     "output_type": "execute_result"
    }
   ],
   "execution_count": 28
  },
  {
   "metadata": {
    "ExecuteTime": {
     "end_time": "2025-03-01T05:01:04.786600Z",
     "start_time": "2025-03-01T05:01:04.765523Z"
    }
   },
   "cell_type": "code",
   "source": [
    "# Change to Numpy\n",
    "X_all = df.drop(columns = [\"Class\"]).values[:, 1:]\n",
    "y_all = df[\"Class\"].values"
   ],
   "id": "93792a07062f22be",
   "outputs": [],
   "execution_count": 29
  },
  {
   "metadata": {},
   "cell_type": "markdown",
   "source": "## Create Logistic Regression Model",
   "id": "b7a59115eb6db152"
  },
  {
   "metadata": {
    "ExecuteTime": {
     "end_time": "2025-03-01T05:01:04.801888Z",
     "start_time": "2025-03-01T05:01:04.795700Z"
    }
   },
   "cell_type": "code",
   "source": [
    "class LogisticRegression():\n",
    "    def __init__(self, X, y):\n",
    "        self.X = X\n",
    "        self.y = y.reshape(-1, 1) # converts from shape (n, ) to (n, 1)\n",
    "        # add bias col to X\n",
    "        column_ones = np.ones((X.shape[0], 1))\n",
    "        self.X = np.concatenate((column_ones, X), axis=1)\n",
    "        self.weights = np.zeros((X.shape[1]+1, 1)) # gradient shape is (m, 1)\n",
    "        self.costs = []\n",
    "        self.initial_cost = 9999999999\n",
    "\n",
    "    def h(self, X, weights):\n",
    "        # Calculate hypothesis function using sigmoid\n",
    "        h = 1/(1+np.exp(-1*np.dot(X, weights)))\n",
    "        h = np.clip(h, 1e-15, 1 - 1e-15)\n",
    "        return h\n",
    "\n",
    "    def cost(self, X, weights):\n",
    "        # Cost Function\n",
    "        m = X.shape[0]\n",
    "\n",
    "        cost = - (1 / m) * sum(self.y * np.log(self.h(X, weights)) + (1 - self.y) * np.log(1 - self.h(X, weights)))\n",
    "        return cost\n",
    "\n",
    "    def predict(self, X, weights):\n",
    "        p = self.h(X, weights)\n",
    "        p = p >= 0.5\n",
    "        p = p.astype(int)\n",
    "        return p\n",
    "\n",
    "    def grad(self, X, weights):\n",
    "        # Gradient\n",
    "        grad = (1 / len(self.y)) * np.dot(X.T, (self.h(X, weights)-self.y))\n",
    "        return grad\n",
    "\n",
    "    def gradient_descent(self, iterations, learning_rate, stopping_threshold):\n",
    "        weights = self.weights\n",
    "        cost = self.initial_cost # Initialize cost to 999...\n",
    "        self.costs = [] # Refresh cost history\n",
    "\n",
    "        for i in range(iterations):\n",
    "            print(\"iteration:\", i)\n",
    "            cost_prev = cost # record previous cost\n",
    "\n",
    "            weights -= learning_rate * self.grad(self.X, weights) # update weights\n",
    "            cost = float(self.cost(self.X, weights)) # get new cost\n",
    "            print(cost)\n",
    "            self.costs.append(cost) # append cost to history\n",
    "\n",
    "            # Stopping Criteria\n",
    "            if abs(cost_prev-cost) <= stopping_threshold:\n",
    "                return\n",
    "        return\n",
    "\n",
    "    def plot_gradient_descent(self):\n",
    "        plt.figure(figsize=(8,6))\n",
    "        plt.scatter(list(range(len(self.costs))), self.costs)\n",
    "        plt.plot([0, len(self.costs)], [min(self.costs), max(self.costs)])\n",
    "        plt.xlabel(\"Iteration Number\")\n",
    "        plt.ylabel(\"Cost\")\n",
    "        plt.title(\"Gradient Descent: Cost vs Iteration\")\n",
    "        plt.show()\n",
    "        return\n",
    "\n",
    "\n"
   ],
   "id": "93a0681049ff6851",
   "outputs": [],
   "execution_count": 30
  },
  {
   "metadata": {},
   "cell_type": "markdown",
   "source": "## Function Calls",
   "id": "79b24b6ebcae72a6"
  },
  {
   "metadata": {
    "ExecuteTime": {
     "end_time": "2025-03-01T05:01:09.750585Z",
     "start_time": "2025-03-01T05:01:04.809812Z"
    }
   },
   "cell_type": "code",
   "source": [
    "iters = 2000\n",
    "lr = 0.1\n",
    "st = 0.00001\n",
    "model = LogisticRegression(X_all, y_all)\n",
    "model.gradient_descent(iters, lr, st)\n",
    "model.plot_gradient_descent"
   ],
   "id": "4fb52eec214c9e15",
   "outputs": [
    {
     "name": "stdout",
     "output_type": "stream",
     "text": [
      "iteration: 0\n",
      "0.04517769530446104\n",
      "iteration: 1\n"
     ]
    },
    {
     "name": "stderr",
     "output_type": "stream",
     "text": [
      "/var/folders/_r/ltvwm9y13l5dzz_rnl8w419m0000gn/T/ipykernel_43491/1233287001.py:14: RuntimeWarning: overflow encountered in exp\n",
      "  h = 1/(1+np.exp(-1*np.dot(X, weights)))\n",
      "/var/folders/_r/ltvwm9y13l5dzz_rnl8w419m0000gn/T/ipykernel_43491/1233287001.py:46: DeprecationWarning: Conversion of an array with ndim > 0 to a scalar is deprecated, and will error in future. Ensure you extract a single element from your array before performing this operation. (Deprecated NumPy 1.25.)\n",
      "  cost = float(self.cost(self.X, weights)) # get new cost\n"
     ]
    },
    {
     "name": "stdout",
     "output_type": "stream",
     "text": [
      "0.0451364754157566\n",
      "iteration: 2\n",
      "0.045096234869571296\n",
      "iteration: 3\n",
      "0.04505699565718481\n",
      "iteration: 4\n",
      "0.045018282703132365\n",
      "iteration: 5\n",
      "0.04497982823636549\n",
      "iteration: 6\n",
      "0.04494244897370656\n",
      "iteration: 7\n",
      "0.04490617342628623\n",
      "iteration: 8\n",
      "0.044871032953440304\n",
      "iteration: 9\n",
      "0.04483702736864222\n",
      "iteration: 10\n",
      "0.04480315440049501\n",
      "iteration: 11\n",
      "0.04476884355298909\n",
      "iteration: 12\n",
      "0.044735672461162786\n",
      "iteration: 13\n",
      "0.044703852900142546\n",
      "iteration: 14\n",
      "0.04467343907886575\n",
      "iteration: 15\n",
      "0.04464448853780254\n",
      "iteration: 16\n",
      "0.04461706147179652\n",
      "iteration: 17\n",
      "0.044591219814328883\n",
      "iteration: 18\n",
      "0.04456702609850425\n",
      "iteration: 19\n",
      "0.044544542134577134\n",
      "iteration: 20\n",
      "0.04452380482548013\n",
      "iteration: 21\n",
      "0.044504118554344906\n",
      "iteration: 22\n",
      "0.0444857675710772\n",
      "iteration: 23\n",
      "0.04446898368316403\n",
      "iteration: 24\n",
      "0.04445416209633132\n",
      "iteration: 25\n",
      "0.044440980129435946\n",
      "iteration: 26\n",
      "0.044428999917384596\n",
      "iteration: 27\n",
      "0.04441905290225857\n"
     ]
    },
    {
     "data": {
      "text/plain": [
       "<bound method LogisticRegression.plot_gradient_descent of <__main__.LogisticRegression object at 0x134ac4ce0>>"
      ]
     },
     "execution_count": 31,
     "metadata": {},
     "output_type": "execute_result"
    }
   ],
   "execution_count": 31
  },
  {
   "metadata": {
    "ExecuteTime": {
     "end_time": "2025-03-01T05:01:09.777757Z",
     "start_time": "2025-03-01T05:01:09.773992Z"
    }
   },
   "cell_type": "code",
   "source": "model.plot_gradient_descent",
   "id": "9679dc9746c5367f",
   "outputs": [
    {
     "data": {
      "text/plain": [
       "<bound method LogisticRegression.plot_gradient_descent of <__main__.LogisticRegression object at 0x134ac4ce0>>"
      ]
     },
     "execution_count": 32,
     "metadata": {},
     "output_type": "execute_result"
    }
   ],
   "execution_count": 32
  },
  {
   "metadata": {
    "ExecuteTime": {
     "end_time": "2025-03-01T05:01:09.916416Z",
     "start_time": "2025-03-01T05:01:09.812919Z"
    }
   },
   "cell_type": "code",
   "source": [
    "costs = model.costs\n",
    "plt.figure(figsize=(8,6))\n",
    "plt.scatter(list(range(len(costs))), costs)\n",
    "# plt.plot([0, len(costs)], [min(costs), max(costs)])\n",
    "plt.xlabel(\"Iteration Number\")\n",
    "plt.ylabel(\"Cost\")\n",
    "plt.title(\"Gradient Descent: Cost vs Iteration\")\n",
    "plt.show()"
   ],
   "id": "83c4a0381870bb99",
   "outputs": [
    {
     "data": {
      "text/plain": [
       "<Figure size 800x600 with 1 Axes>"
      ],
      "image/png": "[encoded data removed]"
     },
     "metadata": {},
     "output_type": "display_data"
    }
   ],
   "execution_count": 33
  }
 ],
 "metadata": {
  "kernelspec": {
   "display_name": "Python 3",
   "language": "python",
   "name": "python3"
  },
  "language_info": {
   "codemirror_mode": {
    "name": "ipython",
    "version": 2
   },
   "file_extension": ".py",
   "mimetype": "text/x-python",
   "name": "python",
   "nbconvert_exporter": "python",
   "pygments_lexer": "ipython2",
   "version": "2.7.6"
  }
 },
 "nbformat": 4,
 "nbformat_minor": 5
}
